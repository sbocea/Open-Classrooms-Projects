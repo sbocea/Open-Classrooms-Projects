{
 "cells": [
  {
   "cell_type": "code",
   "execution_count": 1,
   "id": "ca7802e4",
   "metadata": {},
   "outputs": [],
   "source": [
    "import os"
   ]
  },
  {
   "cell_type": "code",
   "execution_count": 2,
   "id": "27f742a3",
   "metadata": {},
   "outputs": [],
   "source": [
    "import time"
   ]
  },
  {
   "cell_type": "code",
   "execution_count": 3,
   "id": "e6bbcfd4",
   "metadata": {},
   "outputs": [],
   "source": [
    "import tensorflow"
   ]
  },
  {
   "cell_type": "code",
   "execution_count": 4,
   "id": "5e26ed32",
   "metadata": {},
   "outputs": [],
   "source": [
    "from tensorflow.keras.utils import image_dataset_from_directory\n",
    "from tensorflow.keras import Input, Model"
   ]
  },
  {
   "cell_type": "code",
   "execution_count": 5,
   "id": "4d5ccd68",
   "metadata": {},
   "outputs": [],
   "source": [
    "from tensorflow.keras.models import Sequential\n",
    "from tensorflow.keras.layers import Conv2D, MaxPooling2D\n",
    "from tensorflow.keras.layers import Flatten, Dense, Rescaling\n",
    "from tensorflow.keras.layers import RandomFlip, RandomRotation, RandomZoom\n",
    "from tensorflow.keras.losses import SparseCategoricalCrossentropy\n",
    "from tensorflow.keras import optimizers\n",
    "from tensorflow.keras.callbacks import EarlyStopping\n",
    "from keras.preprocessing.image import load_img, img_to_array, ImageDataGenerator"
   ]
  },
  {
   "cell_type": "code",
   "execution_count": 6,
   "id": "496ef303",
   "metadata": {},
   "outputs": [],
   "source": [
    "from tensorflow.keras.applications.vgg16 import VGG16, preprocess_input,\\\n",
    " decode_predictions\n",
    "from tensorflow.keras.applications import ResNet50"
   ]
  },
  {
   "cell_type": "code",
   "execution_count": 7,
   "id": "d8fdc853",
   "metadata": {},
   "outputs": [],
   "source": [
    "from tensorflow.keras.models import clone_model"
   ]
  },
  {
   "cell_type": "code",
   "execution_count": 8,
   "id": "87ff84b2",
   "metadata": {},
   "outputs": [],
   "source": [
    "import numpy as np\n",
    "from matplotlib import pyplot as plt\n",
    "import pandas as pd"
   ]
  },
  {
   "cell_type": "code",
   "execution_count": 9,
   "id": "ec85b0c0",
   "metadata": {},
   "outputs": [],
   "source": [
    "from sklearn.metrics import confusion_matrix"
   ]
  },
  {
   "cell_type": "code",
   "execution_count": 10,
   "id": "0c710ebd",
   "metadata": {},
   "outputs": [],
   "source": [
    "import seaborn as sns\n",
    "sns.set(font_scale=1.5)"
   ]
  },
  {
   "cell_type": "code",
   "execution_count": 11,
   "id": "ae1156c0",
   "metadata": {},
   "outputs": [],
   "source": [
    "from PIL import Image"
   ]
  },
  {
   "cell_type": "code",
   "execution_count": 12,
   "id": "2bafce48",
   "metadata": {},
   "outputs": [],
   "source": [
    "from tqdm import tqdm"
   ]
  },
  {
   "cell_type": "code",
   "execution_count": 13,
   "id": "38088808",
   "metadata": {},
   "outputs": [],
   "source": [
    "extract_dir = \"/data/dogs-extract-10\""
   ]
  },
  {
   "cell_type": "code",
   "execution_count": 14,
   "id": "5955859c",
   "metadata": {},
   "outputs": [],
   "source": [
    "width, height = 230, 230"
   ]
  },
  {
   "cell_type": "code",
   "execution_count": 15,
   "id": "f40d45bc",
   "metadata": {},
   "outputs": [],
   "source": [
    "batch_size = 16"
   ]
  },
  {
   "cell_type": "code",
   "execution_count": 16,
   "id": "b0fc5216",
   "metadata": {},
   "outputs": [],
   "source": [
    "def dir_to_datasets(directory):\n",
    "    \"\"\"Read images from directory, resize them, perform\n",
    "    data augmentation on the training set and return trainable datasets\"\"\"\n",
    "    data_train = image_dataset_from_directory(extract_dir, validation_split=0.2, subset=\"training\", \n",
    "                                              seed=42, image_size=(height, width), batch_size=batch_size, \n",
    "                                              )\n",
    "    \n",
    "    data_val = image_dataset_from_directory(extract_dir, validation_split=0.2, subset=\"validation\",\n",
    "                                            seed=42, image_size=(height, width), batch_size=batch_size,\n",
    "                                            )    \n",
    "    \n",
    "    class_names = data_train.class_names\n",
    "    assert len(data_train.class_names) == len(data_val.class_names)\n",
    "    nb_classes = len(class_names)\n",
    "    \n",
    "    data_train = data_train.prefetch(buffer_size=64)\n",
    "    data_val = data_val.prefetch(buffer_size=64)\n",
    "\n",
    "    return data_train, data_val, class_names, nb_classes\n",
    "    "
   ]
  },
  {
   "cell_type": "code",
   "execution_count": 17,
   "id": "6ebc4405",
   "metadata": {},
   "outputs": [
    {
     "name": "stdout",
     "output_type": "stream",
     "text": [
      "Found 2233 files belonging to 10 classes.\n",
      "Using 1787 files for training.\n",
      "Found 2233 files belonging to 10 classes.\n",
      "Using 446 files for validation.\n"
     ]
    },
    {
     "name": "stderr",
     "output_type": "stream",
     "text": [
      "2022-07-28 20:25:16.961968: I tensorflow/stream_executor/cuda/cuda_gpu_executor.cc:939] successful NUMA node read from SysFS had negative value (-1), but there must be at least one NUMA node, so returning NUMA node zero\n",
      "2022-07-28 20:25:16.967933: I tensorflow/stream_executor/cuda/cuda_gpu_executor.cc:939] successful NUMA node read from SysFS had negative value (-1), but there must be at least one NUMA node, so returning NUMA node zero\n",
      "2022-07-28 20:25:16.968084: I tensorflow/stream_executor/cuda/cuda_gpu_executor.cc:939] successful NUMA node read from SysFS had negative value (-1), but there must be at least one NUMA node, so returning NUMA node zero\n",
      "2022-07-28 20:25:16.968621: I tensorflow/core/platform/cpu_feature_guard.cc:151] This TensorFlow binary is optimized with oneAPI Deep Neural Network Library (oneDNN) to use the following CPU instructions in performance-critical operations:  AVX2 FMA\n",
      "To enable them in other operations, rebuild TensorFlow with the appropriate compiler flags.\n",
      "2022-07-28 20:25:16.969162: I tensorflow/stream_executor/cuda/cuda_gpu_executor.cc:939] successful NUMA node read from SysFS had negative value (-1), but there must be at least one NUMA node, so returning NUMA node zero\n",
      "2022-07-28 20:25:16.969278: I tensorflow/stream_executor/cuda/cuda_gpu_executor.cc:939] successful NUMA node read from SysFS had negative value (-1), but there must be at least one NUMA node, so returning NUMA node zero\n",
      "2022-07-28 20:25:16.969377: I tensorflow/stream_executor/cuda/cuda_gpu_executor.cc:939] successful NUMA node read from SysFS had negative value (-1), but there must be at least one NUMA node, so returning NUMA node zero\n",
      "2022-07-28 20:25:17.321448: I tensorflow/stream_executor/cuda/cuda_gpu_executor.cc:939] successful NUMA node read from SysFS had negative value (-1), but there must be at least one NUMA node, so returning NUMA node zero\n",
      "2022-07-28 20:25:17.321595: I tensorflow/stream_executor/cuda/cuda_gpu_executor.cc:939] successful NUMA node read from SysFS had negative value (-1), but there must be at least one NUMA node, so returning NUMA node zero\n",
      "2022-07-28 20:25:17.321703: I tensorflow/stream_executor/cuda/cuda_gpu_executor.cc:939] successful NUMA node read from SysFS had negative value (-1), but there must be at least one NUMA node, so returning NUMA node zero\n",
      "2022-07-28 20:25:17.321799: I tensorflow/core/common_runtime/gpu/gpu_device.cc:1525] Created device /job:localhost/replica:0/task:0/device:GPU:0 with 5424 MB memory:  -> device: 0, name: NVIDIA GeForce RTX 3070 Laptop GPU, pci bus id: 0000:01:00.0, compute capability: 8.6\n"
     ]
    }
   ],
   "source": [
    "data_train, data_val, class_names, nb_breeds = dir_to_datasets(extract_dir)"
   ]
  },
  {
   "cell_type": "code",
   "execution_count": 18,
   "id": "dcd63427",
   "metadata": {},
   "outputs": [
    {
     "data": {
      "text/plain": [
       "['Afghan_hound',\n",
       " 'Bernese_mountain_dog',\n",
       " 'Great_Pyrenees',\n",
       " 'Irish_wolfhound',\n",
       " 'Leonberg',\n",
       " 'Maltese_dog',\n",
       " 'Pomeranian',\n",
       " 'Samoyed',\n",
       " 'Scottish_deerhound',\n",
       " 'Shih-Tzu']"
      ]
     },
     "execution_count": 18,
     "metadata": {},
     "output_type": "execute_result"
    }
   ],
   "source": [
    "class_names"
   ]
  },
  {
   "cell_type": "code",
   "execution_count": 19,
   "id": "b6d15ab2",
   "metadata": {},
   "outputs": [
    {
     "data": {
      "text/plain": [
       "10"
      ]
     },
     "execution_count": 19,
     "metadata": {},
     "output_type": "execute_result"
    }
   ],
   "source": [
    "nb_breeds"
   ]
  },
  {
   "cell_type": "code",
   "execution_count": 20,
   "id": "6a25ad91",
   "metadata": {},
   "outputs": [
    {
     "data": {
      "text/plain": [
       "[PhysicalDevice(name='/physical_device:GPU:0', device_type='GPU')]"
      ]
     },
     "execution_count": 20,
     "metadata": {},
     "output_type": "execute_result"
    }
   ],
   "source": [
    "tensorflow.config.list_physical_devices('GPU')"
   ]
  },
  {
   "cell_type": "code",
   "execution_count": 21,
   "id": "b43316d4",
   "metadata": {},
   "outputs": [
    {
     "name": "stdout",
     "output_type": "stream",
     "text": [
      "Model: \"vgg16\"\n",
      "_________________________________________________________________\n",
      " Layer (type)                Output Shape              Param #   \n",
      "=================================================================\n",
      " input_1 (InputLayer)        [(None, 224, 224, 3)]     0         \n",
      "                                                                 \n",
      " block1_conv1 (Conv2D)       (None, 224, 224, 64)      1792      \n",
      "                                                                 \n",
      " block1_conv2 (Conv2D)       (None, 224, 224, 64)      36928     \n",
      "                                                                 \n",
      " block1_pool (MaxPooling2D)  (None, 112, 112, 64)      0         \n",
      "                                                                 \n",
      " block2_conv1 (Conv2D)       (None, 112, 112, 128)     73856     \n",
      "                                                                 \n",
      " block2_conv2 (Conv2D)       (None, 112, 112, 128)     147584    \n",
      "                                                                 \n",
      " block2_pool (MaxPooling2D)  (None, 56, 56, 128)       0         \n",
      "                                                                 \n",
      " block3_conv1 (Conv2D)       (None, 56, 56, 256)       295168    \n",
      "                                                                 \n",
      " block3_conv2 (Conv2D)       (None, 56, 56, 256)       590080    \n",
      "                                                                 \n",
      " block3_conv3 (Conv2D)       (None, 56, 56, 256)       590080    \n",
      "                                                                 \n",
      " block3_pool (MaxPooling2D)  (None, 28, 28, 256)       0         \n",
      "                                                                 \n",
      " block4_conv1 (Conv2D)       (None, 28, 28, 512)       1180160   \n",
      "                                                                 \n",
      " block4_conv2 (Conv2D)       (None, 28, 28, 512)       2359808   \n",
      "                                                                 \n",
      " block4_conv3 (Conv2D)       (None, 28, 28, 512)       2359808   \n",
      "                                                                 \n",
      " block4_pool (MaxPooling2D)  (None, 14, 14, 512)       0         \n",
      "                                                                 \n",
      " block5_conv1 (Conv2D)       (None, 14, 14, 512)       2359808   \n",
      "                                                                 \n",
      " block5_conv2 (Conv2D)       (None, 14, 14, 512)       2359808   \n",
      "                                                                 \n",
      " block5_conv3 (Conv2D)       (None, 14, 14, 512)       2359808   \n",
      "                                                                 \n",
      " block5_pool (MaxPooling2D)  (None, 7, 7, 512)         0         \n",
      "                                                                 \n",
      " flatten (Flatten)           (None, 25088)             0         \n",
      "                                                                 \n",
      " fc1 (Dense)                 (None, 4096)              102764544 \n",
      "                                                                 \n",
      " fc2 (Dense)                 (None, 4096)              16781312  \n",
      "                                                                 \n",
      " predictions (Dense)         (None, 1000)              4097000   \n",
      "                                                                 \n",
      "=================================================================\n",
      "Total params: 138,357,544\n",
      "Trainable params: 138,357,544\n",
      "Non-trainable params: 0\n",
      "_________________________________________________________________\n"
     ]
    }
   ],
   "source": [
    "model = VGG16()\n",
    "model.summary()"
   ]
  },
  {
   "cell_type": "code",
   "execution_count": 22,
   "id": "a9c623db",
   "metadata": {},
   "outputs": [],
   "source": [
    "model = VGG16(include_top=False, input_shape=(height, width, 3))"
   ]
  },
  {
   "cell_type": "code",
   "execution_count": 23,
   "id": "dd8df49b",
   "metadata": {},
   "outputs": [],
   "source": [
    "# stop .fit from training all layers : we use transfer learning, it makes\n",
    "# no sense "
   ]
  },
  {
   "cell_type": "code",
   "execution_count": 24,
   "id": "23c68188",
   "metadata": {},
   "outputs": [],
   "source": [
    "for layer in model.layers:\n",
    "    layer.trainable = False"
   ]
  },
  {
   "cell_type": "code",
   "execution_count": 25,
   "id": "1eab69d6",
   "metadata": {},
   "outputs": [],
   "source": [
    "# we add output layer that matches our requirement"
   ]
  },
  {
   "cell_type": "code",
   "execution_count": 26,
   "id": "38d8e87e",
   "metadata": {},
   "outputs": [],
   "source": [
    "flat1 = Flatten()(model.layers[-1].output)\n",
    "class1 = Dense(1024, activation='relu')(flat1)\n",
    "output = Dense(nb_breeds, activation='softmax')(class1)"
   ]
  },
  {
   "cell_type": "code",
   "execution_count": 27,
   "id": "4071fcb3",
   "metadata": {},
   "outputs": [
    {
     "name": "stdout",
     "output_type": "stream",
     "text": [
      "Model: \"model\"\n",
      "_________________________________________________________________\n",
      " Layer (type)                Output Shape              Param #   \n",
      "=================================================================\n",
      " input_2 (InputLayer)        [(None, 230, 230, 3)]     0         \n",
      "                                                                 \n",
      " block1_conv1 (Conv2D)       (None, 230, 230, 64)      1792      \n",
      "                                                                 \n",
      " block1_conv2 (Conv2D)       (None, 230, 230, 64)      36928     \n",
      "                                                                 \n",
      " block1_pool (MaxPooling2D)  (None, 115, 115, 64)      0         \n",
      "                                                                 \n",
      " block2_conv1 (Conv2D)       (None, 115, 115, 128)     73856     \n",
      "                                                                 \n",
      " block2_conv2 (Conv2D)       (None, 115, 115, 128)     147584    \n",
      "                                                                 \n",
      " block2_pool (MaxPooling2D)  (None, 57, 57, 128)       0         \n",
      "                                                                 \n",
      " block3_conv1 (Conv2D)       (None, 57, 57, 256)       295168    \n",
      "                                                                 \n",
      " block3_conv2 (Conv2D)       (None, 57, 57, 256)       590080    \n",
      "                                                                 \n",
      " block3_conv3 (Conv2D)       (None, 57, 57, 256)       590080    \n",
      "                                                                 \n",
      " block3_pool (MaxPooling2D)  (None, 28, 28, 256)       0         \n",
      "                                                                 \n",
      " block4_conv1 (Conv2D)       (None, 28, 28, 512)       1180160   \n",
      "                                                                 \n",
      " block4_conv2 (Conv2D)       (None, 28, 28, 512)       2359808   \n",
      "                                                                 \n",
      " block4_conv3 (Conv2D)       (None, 28, 28, 512)       2359808   \n",
      "                                                                 \n",
      " block4_pool (MaxPooling2D)  (None, 14, 14, 512)       0         \n",
      "                                                                 \n",
      " block5_conv1 (Conv2D)       (None, 14, 14, 512)       2359808   \n",
      "                                                                 \n",
      " block5_conv2 (Conv2D)       (None, 14, 14, 512)       2359808   \n",
      "                                                                 \n",
      " block5_conv3 (Conv2D)       (None, 14, 14, 512)       2359808   \n",
      "                                                                 \n",
      " block5_pool (MaxPooling2D)  (None, 7, 7, 512)         0         \n",
      "                                                                 \n",
      " flatten (Flatten)           (None, 25088)             0         \n",
      "                                                                 \n",
      " dense (Dense)               (None, 1024)              25691136  \n",
      "                                                                 \n",
      " dense_1 (Dense)             (None, 10)                10250     \n",
      "                                                                 \n",
      "=================================================================\n",
      "Total params: 40,416,074\n",
      "Trainable params: 25,701,386\n",
      "Non-trainable params: 14,714,688\n",
      "_________________________________________________________________\n"
     ]
    }
   ],
   "source": [
    "model = Model(inputs=model.inputs, outputs=output)\n",
    "model.summary()"
   ]
  },
  {
   "cell_type": "code",
   "execution_count": 28,
   "id": "6473a0dd",
   "metadata": {},
   "outputs": [],
   "source": [
    "### the VGG16 parameters are non-trainable ; the parameters from the\n",
    "### layers we added are trainable"
   ]
  },
  {
   "cell_type": "code",
   "execution_count": 29,
   "id": "f9c5986d",
   "metadata": {
    "scrolled": true
   },
   "outputs": [
    {
     "name": "stdout",
     "output_type": "stream",
     "text": [
      "Model: \"model\"\n",
      "_________________________________________________________________\n",
      " Layer (type)                Output Shape              Param #   \n",
      "=================================================================\n",
      " input_2 (InputLayer)        [(None, 230, 230, 3)]     0         \n",
      "                                                                 \n",
      " block1_conv1 (Conv2D)       (None, 230, 230, 64)      1792      \n",
      "                                                                 \n",
      " block1_conv2 (Conv2D)       (None, 230, 230, 64)      36928     \n",
      "                                                                 \n",
      " block1_pool (MaxPooling2D)  (None, 115, 115, 64)      0         \n",
      "                                                                 \n",
      " block2_conv1 (Conv2D)       (None, 115, 115, 128)     73856     \n",
      "                                                                 \n",
      " block2_conv2 (Conv2D)       (None, 115, 115, 128)     147584    \n",
      "                                                                 \n",
      " block2_pool (MaxPooling2D)  (None, 57, 57, 128)       0         \n",
      "                                                                 \n",
      " block3_conv1 (Conv2D)       (None, 57, 57, 256)       295168    \n",
      "                                                                 \n",
      " block3_conv2 (Conv2D)       (None, 57, 57, 256)       590080    \n",
      "                                                                 \n",
      " block3_conv3 (Conv2D)       (None, 57, 57, 256)       590080    \n",
      "                                                                 \n",
      " block3_pool (MaxPooling2D)  (None, 28, 28, 256)       0         \n",
      "                                                                 \n",
      " block4_conv1 (Conv2D)       (None, 28, 28, 512)       1180160   \n",
      "                                                                 \n",
      " block4_conv2 (Conv2D)       (None, 28, 28, 512)       2359808   \n",
      "                                                                 \n",
      " block4_conv3 (Conv2D)       (None, 28, 28, 512)       2359808   \n",
      "                                                                 \n",
      " block4_pool (MaxPooling2D)  (None, 14, 14, 512)       0         \n",
      "                                                                 \n",
      " block5_conv1 (Conv2D)       (None, 14, 14, 512)       2359808   \n",
      "                                                                 \n",
      " block5_conv2 (Conv2D)       (None, 14, 14, 512)       2359808   \n",
      "                                                                 \n",
      " block5_conv3 (Conv2D)       (None, 14, 14, 512)       2359808   \n",
      "                                                                 \n",
      " block5_pool (MaxPooling2D)  (None, 7, 7, 512)         0         \n",
      "                                                                 \n",
      " flatten (Flatten)           (None, 25088)             0         \n",
      "                                                                 \n",
      " dense (Dense)               (None, 1024)              25691136  \n",
      "                                                                 \n",
      " dense_1 (Dense)             (None, 10)                10250     \n",
      "                                                                 \n",
      "=================================================================\n",
      "Total params: 40,416,074\n",
      "Trainable params: 25,701,386\n",
      "Non-trainable params: 14,714,688\n",
      "_________________________________________________________________\n"
     ]
    }
   ],
   "source": [
    "model.summary()"
   ]
  },
  {
   "cell_type": "code",
   "execution_count": 30,
   "id": "53fff08c",
   "metadata": {},
   "outputs": [],
   "source": [
    "# all params are trainable : because we are building from scratch, no transfer learning"
   ]
  },
  {
   "cell_type": "code",
   "execution_count": 31,
   "id": "7362718f",
   "metadata": {},
   "outputs": [],
   "source": [
    "model.compile(optimizer=optimizers.Adam(learning_rate=1e-4),\n",
    "              loss=SparseCategoricalCrossentropy(),\n",
    "              metrics=['accuracy'])"
   ]
  },
  {
   "cell_type": "code",
   "execution_count": 32,
   "id": "cdb2b3f1",
   "metadata": {},
   "outputs": [],
   "source": [
    "callback = EarlyStopping(monitor='loss', patience=3, min_delta=1e-4)"
   ]
  },
  {
   "cell_type": "code",
   "execution_count": 33,
   "id": "e33cc338",
   "metadata": {},
   "outputs": [],
   "source": [
    "# prepare training\n",
    "epochs = 10\n",
    "batch_size = 8"
   ]
  },
  {
   "cell_type": "code",
   "execution_count": 34,
   "id": "4366e343",
   "metadata": {
    "scrolled": false
   },
   "outputs": [
    {
     "name": "stdout",
     "output_type": "stream",
     "text": [
      "Epoch 1/10\n"
     ]
    },
    {
     "name": "stderr",
     "output_type": "stream",
     "text": [
      "2022-07-28 20:25:20.564796: I tensorflow/stream_executor/cuda/cuda_dnn.cc:366] Loaded cuDNN version 8204\n"
     ]
    },
    {
     "name": "stdout",
     "output_type": "stream",
     "text": [
      "  5/112 [>.............................] - ETA: 4s - loss: 34.5525 - accuracy: 0.2000     "
     ]
    },
    {
     "name": "stderr",
     "output_type": "stream",
     "text": [
      "2022-07-28 20:25:24.057417: I tensorflow/stream_executor/cuda/cuda_blas.cc:1774] TensorFloat-32 will be used for the matrix multiplication. This will only be logged once.\n"
     ]
    },
    {
     "name": "stdout",
     "output_type": "stream",
     "text": [
      "112/112 [==============================] - 14s 80ms/step - loss: 10.5343 - accuracy: 0.6094 - val_loss: 7.4414 - val_accuracy: 0.6547\n",
      "Epoch 2/10\n",
      "112/112 [==============================] - 5s 48ms/step - loss: 0.9481 - accuracy: 0.9351 - val_loss: 5.4568 - val_accuracy: 0.7265\n",
      "Epoch 3/10\n",
      "112/112 [==============================] - 5s 48ms/step - loss: 0.1989 - accuracy: 0.9793 - val_loss: 6.1646 - val_accuracy: 0.7287\n",
      "Epoch 4/10\n",
      "112/112 [==============================] - 5s 48ms/step - loss: 0.1214 - accuracy: 0.9843 - val_loss: 6.3672 - val_accuracy: 0.7242\n",
      "Epoch 5/10\n",
      "112/112 [==============================] - 5s 49ms/step - loss: 0.1062 - accuracy: 0.9871 - val_loss: 6.4649 - val_accuracy: 0.7466\n",
      "Epoch 6/10\n",
      "112/112 [==============================] - 5s 48ms/step - loss: 0.0888 - accuracy: 0.9899 - val_loss: 9.3045 - val_accuracy: 0.7063\n",
      "Epoch 7/10\n",
      "112/112 [==============================] - 5s 48ms/step - loss: 0.2958 - accuracy: 0.9743 - val_loss: 7.9229 - val_accuracy: 0.7130\n",
      "Epoch 8/10\n",
      "112/112 [==============================] - 5s 48ms/step - loss: 0.2178 - accuracy: 0.9776 - val_loss: 8.7672 - val_accuracy: 0.6883\n",
      "Epoch 9/10\n",
      "112/112 [==============================] - 5s 48ms/step - loss: 0.2379 - accuracy: 0.9793 - val_loss: 8.7573 - val_accuracy: 0.7220\n",
      "Timing:  57.40579795837402\n"
     ]
    }
   ],
   "source": [
    "# fit on original images\n",
    "\n",
    "t_fit_0 = time.time()\n",
    "model_info = model.fit(\n",
    "    data_train, validation_data=data_val,\n",
    "    epochs=epochs, callbacks = [callback]\n",
    ")\n",
    "t_fit_1 = time.time()\n",
    "print(\"Timing: \", t_fit_1 - t_fit_0)"
   ]
  },
  {
   "cell_type": "code",
   "execution_count": 35,
   "id": "c0e92419",
   "metadata": {},
   "outputs": [],
   "source": [
    "epochs = len(model_info.history[\"accuracy\"])"
   ]
  },
  {
   "cell_type": "code",
   "execution_count": 36,
   "id": "dd2f79eb",
   "metadata": {},
   "outputs": [],
   "source": [
    "def plot_acc_loss(model_info, epochs):\n",
    "    \"\"\"Common plots for accuracy and loss wrt epochs\"\"\"\n",
    "    acc = model_info.history['accuracy']\n",
    "    val_acc = model_info.history['val_accuracy']\n",
    "\n",
    "    loss = model_info.history['loss']\n",
    "    val_loss = model_info.history['val_loss']\n",
    "\n",
    "    epochs_range = range(epochs)\n",
    "\n",
    "    plt.figure(figsize=(8, 8))\n",
    "    plt.subplot(1, 2, 1)\n",
    "    plt.plot(epochs_range, acc, label='Training Accuracy')\n",
    "    plt.plot(epochs_range, val_acc, label='Validation Accuracy')\n",
    "    plt.legend(loc='lower right')\n",
    "    plt.title('Training and Validation Accuracy')\n",
    "    plt.xlabel(\"epoch\")\n",
    "    plt.ylabel(\"accuracy\")\n",
    "\n",
    "    plt.subplot(1, 2, 2)\n",
    "    plt.plot(epochs_range, loss, label='Training Loss')\n",
    "    plt.plot(epochs_range, val_loss, label='Validation Loss')\n",
    "    plt.legend(loc='upper right')\n",
    "    plt.title('Training and Validation Loss')\n",
    "    plt.xlabel(\"epoch\")\n",
    "    plt.ylabel(\"loss\")\n",
    "    plt.show()"
   ]
  },
  {
   "cell_type": "code",
   "execution_count": 37,
   "id": "a790dfc1",
   "metadata": {},
   "outputs": [
    {
     "data": {
      "image/png": "[encoded data removed]",
      "text/plain": [
       "<Figure size 576x576 with 2 Axes>"
      ]
     },
     "metadata": {},
     "output_type": "display_data"
    }
   ],
   "source": [
    "plot_acc_loss(model_info, epochs)"
   ]
  },
  {
   "cell_type": "code",
   "execution_count": 38,
   "id": "9cac20c8",
   "metadata": {},
   "outputs": [],
   "source": [
    "tensorflow.keras.backend.clear_session()\n"
   ]
  },
  {
   "cell_type": "code",
   "execution_count": 39,
   "id": "be5734e6",
   "metadata": {},
   "outputs": [],
   "source": [
    "# test model on image of Afghan hound taken from Wikipedia"
   ]
  },
  {
   "cell_type": "code",
   "execution_count": 40,
   "id": "e8d87d0b",
   "metadata": {},
   "outputs": [],
   "source": [
    "def predict_one_image(path):\n",
    "    one_image = Image.open(path)\n",
    "    one_image = one_image.resize((height, width))\n",
    "    one_image = tensorflow.convert_to_tensor([np.array(one_image)])\n",
    "    idx_max = model.predict(one_image)[0].argmax()\n",
    "    return class_names[idx_max]\n",
    "    "
   ]
  },
  {
   "cell_type": "code",
   "execution_count": 41,
   "id": "0c71acd9",
   "metadata": {},
   "outputs": [
    {
     "data": {
      "text/plain": [
       "'Afghan_hound'"
      ]
     },
     "execution_count": 41,
     "metadata": {},
     "output_type": "execute_result"
    }
   ],
   "source": [
    "predict_one_image(\"/data/dogs-test/Afghan_dog_-_cropped.jpg\")"
   ]
  },
  {
   "cell_type": "code",
   "execution_count": 42,
   "id": "e72ebe35",
   "metadata": {},
   "outputs": [
    {
     "data": {
      "text/plain": [
       "'Maltese_dog'"
      ]
     },
     "execution_count": 42,
     "metadata": {},
     "output_type": "execute_result"
    }
   ],
   "source": [
    "predict_one_image(\"/data/dogs-test/480px-Maltese_600.jpg\")\n"
   ]
  },
  {
   "cell_type": "code",
   "execution_count": 43,
   "id": "0c0a3b73",
   "metadata": {},
   "outputs": [
    {
     "name": "stdout",
     "output_type": "stream",
     "text": [
      "Found 2233 files belonging to 10 classes.\n",
      "Using 446 files for validation.\n"
     ]
    }
   ],
   "source": [
    "data_val = image_dataset_from_directory(extract_dir, validation_split=0.2, subset=\"validation\",\n",
    "                                            seed=42, image_size=(height, width), batch_size=batch_size,\n",
    "                                            )"
   ]
  },
  {
   "cell_type": "code",
   "execution_count": 44,
   "id": "10ca3172",
   "metadata": {},
   "outputs": [
    {
     "name": "stderr",
     "output_type": "stream",
     "text": [
      "100% 446/446 [00:36<00:00, 12.26it/s]\n"
     ]
    }
   ],
   "source": [
    "predicted = []\n",
    "labels = []\n",
    "for file in tqdm(data_val.file_paths):\n",
    "    prediction = predict_one_image(file)\n",
    "    label = file.split(\"/\")[3]\n",
    "\n",
    "    predicted.append(prediction)\n",
    "    labels.append(label)"
   ]
  },
  {
   "cell_type": "code",
   "execution_count": 45,
   "id": "51bbc6bd",
   "metadata": {},
   "outputs": [],
   "source": [
    "m = confusion_matrix(predicted, labels)\n",
    "m = pd.DataFrame(m)"
   ]
  },
  {
   "cell_type": "code",
   "execution_count": 46,
   "id": "473c286e",
   "metadata": {},
   "outputs": [],
   "source": [
    "m.columns = class_names\n",
    "m.index = class_names"
   ]
  },
  {
   "cell_type": "code",
   "execution_count": 47,
   "id": "40b9ec46",
   "metadata": {},
   "outputs": [
    {
     "data": {
      "text/plain": [
       "<AxesSubplot:>"
      ]
     },
     "execution_count": 47,
     "metadata": {},
     "output_type": "execute_result"
    },
    {
     "data": {
      "image/png": "[encoded data removed]",
      "text/plain": [
       "<Figure size 432x288 with 2 Axes>"
      ]
     },
     "metadata": {},
     "output_type": "display_data"
    }
   ],
   "source": [
    "sns.heatmap(m, annot=True, fmt='.0f', cmap='YlGnBu')"
   ]
  },
  {
   "cell_type": "code",
   "execution_count": null,
   "id": "1179485f",
   "metadata": {},
   "outputs": [],
   "source": []
  }
 ],
 "metadata": {
  "kernelspec": {
   "display_name": "Python 3 (ipykernel)",
   "language": "python",
   "name": "python3"
  },
  "language_info": {
   "codemirror_mode": {
    "name": "ipython",
    "version": 3
   },
   "file_extension": ".py",
   "mimetype": "text/x-python",
   "name": "python",
   "nbconvert_exporter": "python",
   "pygments_lexer": "ipython3",
   "version": "3.9.7"
  }
 },
 "nbformat": 4,
 "nbformat_minor": 5
}
